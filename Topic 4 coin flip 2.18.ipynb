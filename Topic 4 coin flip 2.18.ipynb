{
 "cells": [
  {
   "cell_type": "code",
   "execution_count": null,
   "id": "manual-technician",
   "metadata": {},
   "outputs": [],
   "source": [
    "import numpy as np\n",
    "import matplotlib.pyplot as plt\n",
    "    \n",
    "from numpy.random import binomial as binomial"
   ]
  },
  {
   "cell_type": "markdown",
   "id": "extensive-discovery",
   "metadata": {},
   "source": [
    "1. The function you imported above, binomial(n, p, size=(m,)), simulates m flips of n coins each. On each flip, the number of heads (spikes) is added up. Each coin has probability p of turning up heads (spike). For each of those n coin flips, what is the probability that it turns up tails (no spike)? (Print the answer.)"
   ]
  },
  {
   "cell_type": "code",
   "execution_count": null,
   "id": "nutritional-indiana",
   "metadata": {},
   "outputs": [],
   "source": []
  },
  {
   "cell_type": "markdown",
   "id": "finished-translation",
   "metadata": {},
   "source": [
    "2. Your collaborator sends you a coin flip model where the spike probability is -0.2 What does this model represent? (Discuss.)"
   ]
  },
  {
   "cell_type": "code",
   "execution_count": null,
   "id": "brazilian-technology",
   "metadata": {},
   "outputs": [],
   "source": []
  },
  {
   "cell_type": "markdown",
   "id": "velvet-protest",
   "metadata": {},
   "source": [
    "3. Use the binomial function to simulate one fair coin flip and print the result, three different ways."
   ]
  },
  {
   "cell_type": "code",
   "execution_count": null,
   "id": "incorrect-artwork",
   "metadata": {},
   "outputs": [],
   "source": []
  },
  {
   "cell_type": "markdown",
   "id": "simplified-occupation",
   "metadata": {},
   "source": [
    "4. You collaborator now sends you a biased coin flip model with p(spike)=0.25. You will flip the coin four times. Without simulating the result, what is the probability that it will come up all heads? Why? Print both answers."
   ]
  },
  {
   "cell_type": "code",
   "execution_count": null,
   "id": "covered-privilege",
   "metadata": {},
   "outputs": [],
   "source": []
  },
  {
   "cell_type": "markdown",
   "id": "independent-cargo",
   "metadata": {},
   "source": [
    "5. What is the shape of the output of binomial(n, p, size=(m,))? Print the answer in terms of m."
   ]
  },
  {
   "cell_type": "code",
   "execution_count": null,
   "id": "0b77a22a",
   "metadata": {},
   "outputs": [],
   "source": [
    "# try a few"
   ]
  },
  {
   "cell_type": "code",
   "execution_count": null,
   "id": "fc3fa6ee",
   "metadata": {},
   "outputs": [],
   "source": [
    "# print their shapes"
   ]
  },
  {
   "cell_type": "code",
   "execution_count": null,
   "id": "c0a5249e",
   "metadata": {},
   "outputs": [],
   "source": [
    "# what's the answer"
   ]
  },
  {
   "cell_type": "markdown",
   "id": "charged-keeping",
   "metadata": {},
   "source": [
    "6. You conduct an experiment where you flip that same biased coin 10 times. Before conducting that experiment, what is the average number of heads you expect to see? (Print your answer.)"
   ]
  },
  {
   "cell_type": "code",
   "execution_count": null,
   "id": "actual-husband",
   "metadata": {},
   "outputs": [],
   "source": []
  },
  {
   "cell_type": "markdown",
   "id": "differential-significance",
   "metadata": {},
   "source": [
    "7. Conduct the experiment of 10 fair coin flips, using the binomial function, and repeat it 1000 times. Plot a histogram of the number of heads for each experiment.  What is the average number of heads? What is the most likely number of heads? Does the average number of heads match the most likely result? "
   ]
  },
  {
   "cell_type": "code",
   "execution_count": null,
   "id": "integrated-triangle",
   "metadata": {},
   "outputs": [],
   "source": []
  },
  {
   "cell_type": "code",
   "execution_count": null,
   "id": "proprietary-cleaning",
   "metadata": {},
   "outputs": [],
   "source": []
  },
  {
   "cell_type": "markdown",
   "id": "orange-garage",
   "metadata": {},
   "source": [
    "8. Repeat for baised coins with p(heads) = 0.1, 0.3, 0.7, 0.9. How does the bias (i.e., spike probability) impact the shape of the total spike count distribution? For biased coins, does the average number of heads match the most likely result?"
   ]
  },
  {
   "cell_type": "code",
   "execution_count": null,
   "id": "optional-allergy",
   "metadata": {},
   "outputs": [],
   "source": []
  },
  {
   "cell_type": "code",
   "execution_count": null,
   "id": "personalized-frost",
   "metadata": {},
   "outputs": [],
   "source": []
  },
  {
   "cell_type": "markdown",
   "id": "upper-shell",
   "metadata": {},
   "source": [
    "9. What kinds of things might we use m, the number of flips, to represent biologically or experimentally? (Discuss at least three possibilities, and print your answer.)"
   ]
  },
  {
   "cell_type": "code",
   "execution_count": null,
   "id": "490faaae",
   "metadata": {},
   "outputs": [],
   "source": []
  },
  {
   "cell_type": "markdown",
   "id": "identified-marketplace",
   "metadata": {},
   "source": [
    "10. Use the binomial function to simulate a binary spike train from 1 trial with 10000 time bins. Each time bin is 1 ms long, and the spike probability in each bin is .05. (There is only one trial.) Compute the average firing rate and print that result."
   ]
  },
  {
   "cell_type": "code",
   "execution_count": null,
   "id": "becoming-fancy",
   "metadata": {},
   "outputs": [],
   "source": []
  },
  {
   "cell_type": "markdown",
   "id": "centered-reflection",
   "metadata": {},
   "source": [
    "11. Compute the ISIs from your simulated spike train."
   ]
  },
  {
   "cell_type": "code",
   "execution_count": null,
   "id": "front-netscape",
   "metadata": {},
   "outputs": [],
   "source": []
  },
  {
   "cell_type": "markdown",
   "id": "general-tobacco",
   "metadata": {},
   "source": [
    "12. Compute and plot the ISI histogram of your simulated spike train, without using a canned histogram function."
   ]
  },
  {
   "cell_type": "code",
   "execution_count": null,
   "id": "decimal-sucking",
   "metadata": {},
   "outputs": [],
   "source": []
  },
  {
   "cell_type": "code",
   "execution_count": null,
   "id": "statutory-business",
   "metadata": {},
   "outputs": [],
   "source": []
  }
 ],
 "metadata": {
  "kernelspec": {
   "display_name": "Python 3.9.7 64-bit ('base': conda)",
   "language": "python",
   "name": "python397jvsc74a57bd0c6e4e9f98eb68ad3b7c296f83d20e6de614cb42e90992a65aa266555a3137d0d"
  },
  "language_info": {
   "codemirror_mode": {
    "name": "ipython",
    "version": 3
   },
   "file_extension": ".py",
   "mimetype": "text/x-python",
   "name": "python",
   "nbconvert_exporter": "python",
   "pygments_lexer": "ipython3",
   "version": "3.9.7"
  }
 },
 "nbformat": 4,
 "nbformat_minor": 5
}
